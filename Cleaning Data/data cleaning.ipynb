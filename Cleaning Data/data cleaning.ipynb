{
 "cells": [
  {
   "cell_type": "code",
   "execution_count": 1,
   "id": "1fec239e",
   "metadata": {},
   "outputs": [],
   "source": [
    "import pandas as pd"
   ]
  },
  {
   "cell_type": "code",
   "execution_count": 2,
   "id": "203e4a6f",
   "metadata": {},
   "outputs": [],
   "source": [
    "# file = open('backup.txt', 'r')\n",
    "# lines = file.readlines()\n",
    " \n",
    "# count = 0\n",
    "# # Strips the newline character\n",
    "# for line in lines:\n",
    "#     print(\"{}\".format(line.strip()))\n",
    "#     if line != \"\":\n",
    "#         if line.strip()[0]:\n",
    "#             print(line)"
   ]
  },
  {
   "cell_type": "code",
   "execution_count": 62,
   "id": "3f32902e",
   "metadata": {},
   "outputs": [],
   "source": [
    "df = pd.read_csv(\"data.csv\")\n",
    "data = []"
   ]
  },
  {
   "cell_type": "code",
   "execution_count": 64,
   "id": "cc7a1bc4",
   "metadata": {},
   "outputs": [],
   "source": [
    "index = 0\n",
    "\n",
    "with open(\"sample.csv\", \"w\") as file:\n",
    "    for x in df['Companies'][index:]:\n",
    "        \n",
    "        if not str(df['Details'][index]) == \"nan \" or str(df['Details'][index]) == \"nan\":\n",
    "            file.write(\"{} : {} , \".format(x, df['Details'][index]))\n",
    "        \n",
    "        \n",
    "        if str(x) == \"nan \" or str(x) == \"nan\":\n",
    "            file.write(\"\\n\")\n",
    "            index += 1\n",
    "            continue        \n",
    "        \n",
    "        index += 1"
   ]
  },
  {
   "cell_type": "code",
   "execution_count": null,
   "id": "4f558fb6",
   "metadata": {},
   "outputs": [],
   "source": []
  },
  {
   "cell_type": "code",
   "execution_count": null,
   "id": "ba11b9a1",
   "metadata": {},
   "outputs": [],
   "source": []
  }
 ],
 "metadata": {
  "kernelspec": {
   "display_name": "Python 3 (ipykernel)",
   "language": "python",
   "name": "python3"
  },
  "language_info": {
   "codemirror_mode": {
    "name": "ipython",
    "version": 3
   },
   "file_extension": ".py",
   "mimetype": "text/x-python",
   "name": "python",
   "nbconvert_exporter": "python",
   "pygments_lexer": "ipython3",
   "version": "3.9.6"
  }
 },
 "nbformat": 4,
 "nbformat_minor": 5
}
