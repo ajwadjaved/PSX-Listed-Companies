{
 "cells": [
  {
   "cell_type": "code",
   "execution_count": 1,
   "id": "8e9a9c5b",
   "metadata": {},
   "outputs": [],
   "source": [
    "import time\n",
    "import pandas as pd\n",
    "import requests\n",
    "import urllib\n",
    "from selenium import webdriver\n",
    "from selenium.webdriver.support.ui import Select\n",
    "from bs4 import BeautifulSoup\n",
    "from selenium.webdriver.support.ui import WebDriverWait\n",
    "from selenium.webdriver.common.by import By\n",
    "from selenium.webdriver.support import expected_conditions as EC"
   ]
  },
  {
   "cell_type": "code",
   "execution_count": 47,
   "id": "5d4a3a8a",
   "metadata": {},
   "outputs": [],
   "source": [
    "# chromedriver = \"chromedriver.exe\"\n",
    "# driver = webdriver.Chrome(chromedriver)\n",
    "# driver.get(\"https://www.psx.com.pk/psx/resources-and-tools/listings/listed-companies\")\n",
    "\n",
    "# url = \"https://www.psx.com.pk/psx/resources-and-tools/listings/listed-companies\"\n",
    "# response = requests.get(url)\n",
    "# soup = BeautifulSoup(response.content, 'html.parser')\n",
    "\n",
    "#     response = requests.get(url)\n",
    "#     soup = BeautifulSoup(response.content, 'html.parser')\n",
    "#     print(soup.select(\"tbody[id*=SectorviseSearch]\"))\n",
    "# elem = table[index].text\n",
    "# print(elem.get_attribute(id))"
   ]
  },
  {
   "cell_type": "code",
   "execution_count": 8,
   "id": "057c27ea",
   "metadata": {},
   "outputs": [],
   "source": [
    "# select = Select(driver.find_element_by_id(\"sector\"))\n",
    "# options = select.options\n",
    "# listComp = pd.DataFrame()\n",
    "# for idx, val in enumerate(options):\n",
    "#     if idx == 0 or val.text == \"Future contracts\":\n",
    "#         continue\n",
    "#     select.select_by_index(idx)\n",
    "#     time.sleep(2)\n",
    "#     df = pd.read_html(driver.page_source)[0]\n",
    "# #     print(idx, len(df), val.text)\n",
    "#     df['Sector'] = val.text\n",
    "#     listComp=listComp.append(df)\n",
    "\n",
    "# driver.close()\n",
    "# listComp = listComp.reset_index(drop=True)    \n",
    "# listComp.to_csv(\"PSX_ListedCompaniesData.csv\")\n",
    "\n",
    "# # <tbody id=\"addressbookdata\">\n",
    "# listComp"
   ]
  },
  {
   "cell_type": "code",
   "execution_count": null,
   "id": "9c237d77",
   "metadata": {},
   "outputs": [],
   "source": [
    "chromedriver = \"chromedriver.exe\"\n",
    "driver = webdriver.Chrome(chromedriver)\n",
    "driver.get(\"https://www.psx.com.pk/psx/resources-and-tools/listings/listed-companies\")\n",
    "driver.maximize_window()\n",
    "df = []\n",
    "\n",
    "select = Select(driver.find_element_by_id(\"sector\"))\n",
    "\n",
    "for opt in select.options[1:]: #skip first entry of for loop\n",
    "    opt.click() #website has updated here\n",
    "#     table = driver.find_elements_by_class_name(\"addressbook\")\n",
    "    \n",
    "#     table = driver.find_element_by_xpath(\"//div[@class='addressbook' and style='cursor:pointer']\")\n",
    "#     table = driver.find_element_by_xpath(\"//div[@class='addressbook'][@style='cursor:pointer;']\")\n",
    "#     table = driver.find_element_by_xpath('//*[@class=\"SectorviseSearch\"]')    \n",
    "    table = driver.find_element_by_xpath('//*[@class=\"table-responsive\"]')\n",
    "\n",
    "#     df += [table.text]\n",
    "    print(table.text)\n",
    "\n",
    "\n",
    "#     for index in range(len(table)):\n",
    "#         elem = table[index].text\n",
    "#         print(elem)\n",
    "\n",
    "# #             if index % 2 == 0:\n",
    "        \n",
    "#         elem = table[index].text\n",
    "# #         print(elem)\n",
    "# #             elem.click()\n",
    "# #             data = driver.find_elements_by_class_name(\"addressbookdata\")\n",
    "# #             print(data)\n",
    "\n",
    "driver.close"
   ]
  },
  {
   "cell_type": "code",
   "execution_count": 2,
   "id": "73014ee1",
   "metadata": {},
   "outputs": [],
   "source": [
    "df = pd.read_excel(\"data.xlsx\", index_col=0)"
   ]
  },
  {
   "cell_type": "code",
   "execution_count": 35,
   "id": "af878ae6",
   "metadata": {
    "scrolled": true
   },
   "outputs": [
    {
     "name": "stderr",
     "output_type": "stream",
     "text": [
      "C:\\Users\\ajwad\\AppData\\Local\\Temp/ipykernel_15220/2626546066.py:2: DeprecationWarning: executable_path has been deprecated, please pass in a Service object\n",
      "  driver = webdriver.Chrome(chromedriver)\n",
      "C:\\Users\\ajwad\\AppData\\Local\\Temp/ipykernel_15220/2626546066.py:6: DeprecationWarning: find_element_by_* commands are deprecated. Please use find_element() instead\n",
      "  sector = Select(driver.find_element_by_id(\"sector\"))\n",
      "C:\\Users\\ajwad\\AppData\\Local\\Temp/ipykernel_15220/2626546066.py:7: DeprecationWarning: find_element_by_* commands are deprecated. Please use find_element() instead\n",
      "  symbol = Select(driver.find_element_by_id(\"Symbol\"))\n"
     ]
    },
    {
     "data": {
      "text/plain": [
       "<bound method WebDriver.close of <selenium.webdriver.chrome.webdriver.WebDriver (session=\"8e58ea39e85996c6b48f9396cfb56f8e\")>>"
      ]
     },
     "execution_count": 35,
     "metadata": {},
     "output_type": "execute_result"
    }
   ],
   "source": [
    "chromedriver = \"chromedriver.exe\"\n",
    "driver = webdriver.Chrome(chromedriver)\n",
    "driver.get(\"https://www.psx.com.pk/psx/resources-and-tools/listings/listed-companies\")\n",
    "driver.maximize_window()\n",
    "\n",
    "sector = Select(driver.find_element_by_id(\"sector\"))\n",
    "symbol = Select(driver.find_element_by_id(\"Symbol\"))\n",
    "\n",
    "\n",
    "for sec in sector.options[1:]:\n",
    "    sec.click()\n",
    "    for sym in symbol.options:\n",
    "        #table = sym.text\n",
    "        if sym in df['Ticker'].values:\n",
    "            wait = WebDriverWait(driver, 30)\n",
    "            table = wait.until(EC.presence_of_element_located((By.ID, \"addressbookdata\"))).get_attribute('innerText')\n",
    "\n",
    "            \n",
    "        \n",
    "#         for x in range(len(df)):\n",
    "#             if df['Ticker'][x] == table:\n",
    "#         wait = WebDriverWait(driver, 30)\n",
    "#         print(wait.until(EC.presence_of_element_located((By.ID, \"addressbookdata\"))).get_attribute('innerText'))\n",
    "\n",
    "driver.close"
   ]
  },
  {
   "cell_type": "code",
   "execution_count": 17,
   "id": "193b1177",
   "metadata": {},
   "outputs": [],
   "source": [
    "df['Ticker'][1] #0-1318\n",
    "abc = 'ATLH'"
   ]
  },
  {
   "cell_type": "code",
   "execution_count": 39,
   "id": "8d80c59c",
   "metadata": {},
   "outputs": [
    {
     "data": {
      "text/plain": [
       "'ABSON'"
      ]
     },
     "execution_count": 39,
     "metadata": {},
     "output_type": "execute_result"
    }
   ],
   "source": [
    "table"
   ]
  },
  {
   "cell_type": "code",
   "execution_count": 122,
   "id": "6898961f",
   "metadata": {},
   "outputs": [],
   "source": [
    "# chromedriver = \"chromedriver.exe\"\n",
    "# driver = webdriver.Chrome(chromedriver)\n",
    "# driver.get(\"https://www.psx.com.pk/psx/resources-and-tools/listings/listed-companies\")\n",
    "# driver.maximize_window()\n",
    "\n",
    "# sector = Select(driver.find_element_by_id(\"sector\"))\n",
    "# symbol = Select(driver.find_element_by_id(\"Symbol\"))\n",
    "\n",
    "\n",
    "# for sec in sector.options[1:]:\n",
    "#     sec.click()\n",
    "#     for sym in symbol.options:\n",
    "#         table = sym.text\n",
    "#         for x in range(len(df)):\n",
    "#             if df['Ticker'][x] == table:\n",
    "# #                 driver.find_element_by_xpath(\"//span[.='AGTL']\").click();\n",
    "# #                 button = driver.find_element_by_class (\"//*span[contains( text( ), ‘AGTL’)]\").click()\n",
    "# #                 extraction = driver.find_elements_by_class_name(\"SectorviseSearch\")\n",
    "\n",
    "#                 element1 = find_element_by_css_selector('span:contains(\"View All Companies\")')\n",
    "\n",
    "#                 element1 = find_element_by_xpath('//span[contains(text(), df]')\n",
    "\n",
    "#                 print(extraction)\n",
    "#                 time.sleep(5)\n",
    "\n",
    "# driver.close"
   ]
  },
  {
   "cell_type": "code",
   "execution_count": 29,
   "id": "10b2a192",
   "metadata": {},
   "outputs": [
    {
     "data": {
      "text/html": [
       "<div>\n",
       "<style scoped>\n",
       "    .dataframe tbody tr th:only-of-type {\n",
       "        vertical-align: middle;\n",
       "    }\n",
       "\n",
       "    .dataframe tbody tr th {\n",
       "        vertical-align: top;\n",
       "    }\n",
       "\n",
       "    .dataframe thead th {\n",
       "        text-align: right;\n",
       "    }\n",
       "</style>\n",
       "<table border=\"1\" class=\"dataframe\">\n",
       "  <thead>\n",
       "    <tr style=\"text-align: right;\">\n",
       "      <th></th>\n",
       "      <th>Ticker</th>\n",
       "      <th>Name</th>\n",
       "    </tr>\n",
       "    <tr>\n",
       "      <th>Index</th>\n",
       "      <th></th>\n",
       "      <th></th>\n",
       "    </tr>\n",
       "  </thead>\n",
       "  <tbody>\n",
       "    <tr>\n",
       "      <th>0</th>\n",
       "      <td>AGTL</td>\n",
       "      <td>Al-Ghazi Tractors Limited.</td>\n",
       "    </tr>\n",
       "    <tr>\n",
       "      <th>1</th>\n",
       "      <td>ATLH</td>\n",
       "      <td>Atlas Honda Limited.</td>\n",
       "    </tr>\n",
       "    <tr>\n",
       "      <th>2</th>\n",
       "      <td>DFML</td>\n",
       "      <td>Dewan Farooque Motors Limited [ DEFAULTER SEGM...</td>\n",
       "    </tr>\n",
       "    <tr>\n",
       "      <th>3</th>\n",
       "      <td>GHNI</td>\n",
       "      <td>Ghandhara Industries Ltd.</td>\n",
       "    </tr>\n",
       "    <tr>\n",
       "      <th>4</th>\n",
       "      <td>GHNL</td>\n",
       "      <td>Ghandhara Nissan Ltd.</td>\n",
       "    </tr>\n",
       "    <tr>\n",
       "      <th>...</th>\n",
       "      <td>...</td>\n",
       "      <td>...</td>\n",
       "    </tr>\n",
       "    <tr>\n",
       "      <th>1314</th>\n",
       "      <td>EXTR</td>\n",
       "      <td>Extraction (Pakistan) [ DEFAULTER SEGMENT ]</td>\n",
       "    </tr>\n",
       "    <tr>\n",
       "      <th>1315</th>\n",
       "      <td>POML</td>\n",
       "      <td>Punjab Oil Mills Ltd.</td>\n",
       "    </tr>\n",
       "    <tr>\n",
       "      <th>1316</th>\n",
       "      <td>SSOM</td>\n",
       "      <td>S .S . Oil Mills Ltd.</td>\n",
       "    </tr>\n",
       "    <tr>\n",
       "      <th>1317</th>\n",
       "      <td>SURAJ</td>\n",
       "      <td>Suraj Ghee Industries [ DEFAULTER SEGMENT ]</td>\n",
       "    </tr>\n",
       "    <tr>\n",
       "      <th>1318</th>\n",
       "      <td>BNWM</td>\n",
       "      <td>Bannu Woollen Mills Limited.</td>\n",
       "    </tr>\n",
       "  </tbody>\n",
       "</table>\n",
       "<p>1319 rows × 2 columns</p>\n",
       "</div>"
      ],
      "text/plain": [
       "      Ticker                                               Name\n",
       "Index                                                          \n",
       "0       AGTL                         Al-Ghazi Tractors Limited.\n",
       "1       ATLH                               Atlas Honda Limited.\n",
       "2       DFML  Dewan Farooque Motors Limited [ DEFAULTER SEGM...\n",
       "3       GHNI                          Ghandhara Industries Ltd.\n",
       "4       GHNL                              Ghandhara Nissan Ltd.\n",
       "...      ...                                                ...\n",
       "1314    EXTR        Extraction (Pakistan) [ DEFAULTER SEGMENT ]\n",
       "1315    POML                              Punjab Oil Mills Ltd.\n",
       "1316    SSOM                              S .S . Oil Mills Ltd.\n",
       "1317   SURAJ        Suraj Ghee Industries [ DEFAULTER SEGMENT ]\n",
       "1318    BNWM                       Bannu Woollen Mills Limited.\n",
       "\n",
       "[1319 rows x 2 columns]"
      ]
     },
     "execution_count": 29,
     "metadata": {},
     "output_type": "execute_result"
    }
   ],
   "source": [
    "df"
   ]
  },
  {
   "cell_type": "code",
   "execution_count": null,
   "id": "1312544e",
   "metadata": {},
   "outputs": [],
   "source": []
  },
  {
   "cell_type": "code",
   "execution_count": 40,
   "id": "908a4660",
   "metadata": {},
   "outputs": [
    {
     "name": "stderr",
     "output_type": "stream",
     "text": [
      "C:\\Users\\ajwad\\AppData\\Local\\Temp/ipykernel_15220/803368137.py:2: DeprecationWarning: executable_path has been deprecated, please pass in a Service object\n",
      "  driver = webdriver.Chrome(chromedriver)\n",
      "C:\\Users\\ajwad\\AppData\\Local\\Temp/ipykernel_15220/803368137.py:6: DeprecationWarning: find_element_by_* commands are deprecated. Please use find_element() instead\n",
      "  sector = Select(driver.find_element_by_id(\"sector\"))\n",
      "C:\\Users\\ajwad\\AppData\\Local\\Temp/ipykernel_15220/803368137.py:7: DeprecationWarning: find_element_by_* commands are deprecated. Please use find_element() instead\n",
      "  symbol = Select(driver.find_element_by_id(\"Symbol\"))\n"
     ]
    },
    {
     "name": "stdout",
     "output_type": "stream",
     "text": [
      "<selenium.webdriver.remote.webelement.WebElement (session=\"3e195047a80805f90f1caea1f4af3630\", element=\"de5842e8-e055-41f7-9a01-91ef5135df12\")>\n"
     ]
    },
    {
     "data": {
      "text/plain": [
       "<bound method WebDriver.close of <selenium.webdriver.chrome.webdriver.WebDriver (session=\"3e195047a80805f90f1caea1f4af3630\")>>"
      ]
     },
     "execution_count": 40,
     "metadata": {},
     "output_type": "execute_result"
    }
   ],
   "source": [
    "chromedriver = \"chromedriver.exe\"\n",
    "driver = webdriver.Chrome(chromedriver)\n",
    "driver.get(\"https://www.psx.com.pk/psx/resources-and-tools/listings/listed-companies\")\n",
    "driver.maximize_window()\n",
    "\n",
    "sector = Select(driver.find_element_by_id(\"sector\"))\n",
    "symbol = Select(driver.find_element_by_id(\"Symbol\"))\n",
    "\n",
    "\n",
    "sec = sector.options[1]\n",
    "sec.click()\n",
    "print(sec)\n",
    "\n",
    "# wait = WebDriverWait(driver, 30)\n",
    "# table = wait.until(EC.presence_of_element_located((By.ID, \"addressbookdata\"))).get_attribute('innerText')\n",
    "\n",
    "            \n",
    "        \n",
    "#         for x in range(len(df)):\n",
    "#             if df['Ticker'][x] == table:\n",
    "#         wait = WebDriverWait(driver, 30)\n",
    "#         print(wait.until(EC.presence_of_element_located((By.ID, \"addressbookdata\"))).get_attribute('innerText'))\n",
    "\n",
    "driver.close"
   ]
  },
  {
   "cell_type": "code",
   "execution_count": null,
   "id": "443be86a",
   "metadata": {},
   "outputs": [],
   "source": []
  }
 ],
 "metadata": {
  "kernelspec": {
   "display_name": "Python 3 (ipykernel)",
   "language": "python",
   "name": "python3"
  },
  "language_info": {
   "codemirror_mode": {
    "name": "ipython",
    "version": 3
   },
   "file_extension": ".py",
   "mimetype": "text/x-python",
   "name": "python",
   "nbconvert_exporter": "python",
   "pygments_lexer": "ipython3",
   "version": "3.9.6"
  }
 },
 "nbformat": 4,
 "nbformat_minor": 5
}
